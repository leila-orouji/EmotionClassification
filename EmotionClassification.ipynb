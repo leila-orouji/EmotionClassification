{
 "cells": [
  {
   "cell_type": "markdown",
   "id": "cd2f310b",
   "metadata": {},
   "source": [
    "# Import dependencies"
   ]
  },
  {
   "cell_type": "code",
   "execution_count": 80,
   "id": "ce4ee63c",
   "metadata": {},
   "outputs": [
    {
     "name": "stderr",
     "output_type": "stream",
     "text": [
      "[nltk_data] Downloading package punkt to\n",
      "[nltk_data]     C:\\Users\\amins\\AppData\\Roaming\\nltk_data...\n",
      "[nltk_data]   Unzipping tokenizers\\punkt.zip.\n",
      "[nltk_data] Downloading package averaged_perceptron_tagger to\n",
      "[nltk_data]     C:\\Users\\amins\\AppData\\Roaming\\nltk_data...\n",
      "[nltk_data]   Unzipping taggers\\averaged_perceptron_tagger.zip.\n",
      "[nltk_data] Downloading package wordnet to\n",
      "[nltk_data]     C:\\Users\\amins\\AppData\\Roaming\\nltk_data...\n"
     ]
    }
   ],
   "source": [
    "import pandas as pd\n",
    "import numpy as np\n",
    "from collections import Counter\n",
    "import matplotlib.pyplot as plt\n",
    "\n",
    "#for text pre-processing\n",
    "import re, string\n",
    "import nltk\n",
    "from nltk.tokenize import word_tokenize\n",
    "from nltk.corpus import stopwords\n",
    "from nltk.tokenize import word_tokenize\n",
    "from nltk.stem import SnowballStemmer\n",
    "from nltk.corpus import wordnet\n",
    "from nltk.stem import WordNetLemmatizer\n",
    "nltk.download('punkt')\n",
    "nltk.download('averaged_perceptron_tagger')\n",
    "nltk.download('wordnet')\n",
    "#for model-building\n",
    "from sklearn.model_selection import train_test_split\n",
    "from sklearn.linear_model import LogisticRegression\n",
    "from sklearn.naive_bayes import MultinomialNB\n",
    "from sklearn.metrics import classification_report, f1_score, accuracy_score, confusion_matrix\n",
    "from sklearn.metrics import roc_curve, auc, roc_auc_score\n",
    "# bag of words\n",
    "from sklearn.feature_extraction.text import TfidfVectorizer\n",
    "from sklearn.feature_extraction.text import CountVectorizer\n",
    "#for word embedding\n",
    "import gensim\n",
    "from gensim.models import Word2Vec"
   ]
  },
  {
   "cell_type": "markdown",
   "id": "42392c0a",
   "metadata": {},
   "source": [
    "# Read Dataset\n",
    "strip() : Remove spaces at the beginning and at the end of the string.\n",
    "\n",
    "set() : labels (list) convertes to (set), only a single copy of all the duplicate elements gets placed into it."
   ]
  },
  {
   "cell_type": "code",
   "execution_count": 175,
   "id": "c41e8c4f",
   "metadata": {},
   "outputs": [
    {
     "name": "stdout",
     "output_type": "stream",
     "text": [
      "Total number of sentences for train:  16000\n",
      "Total number of sentences for test:  2000\n",
      "Total number of sentences for validation:  2000 \n",
      "\n",
      "Total number of labels for train:  6 ['love', 'anger', 'joy', 'surprise', 'fear', 'sadness']\n",
      "Total number of labels for test:  6 ['love', 'anger', 'joy', 'surprise', 'fear', 'sadness']\n",
      "Total number of labels for validation:  6 ['love', 'anger', 'joy', 'surprise', 'fear', 'sadness']\n"
     ]
    }
   ],
   "source": [
    "filename = \"EmotionClassificationDataSet/train.txt\"\n",
    "sentences_train = []\n",
    "labels_train = []\n",
    "\n",
    "lines = open(filename, encoding='utf-8').read().strip().split('\\n')\n",
    "for line in lines:\n",
    "    m = line.split(';')\n",
    "    sentences_train.append(m[0])\n",
    "    labels_train.append(m[1])\n",
    "\n",
    "filename = \"EmotionClassificationDataSet/test.txt\"\n",
    "sentences_test = []\n",
    "labels_test = []\n",
    "\n",
    "lines = open(filename, encoding='utf-8').read().strip().split('\\n')\n",
    "for line in lines:\n",
    "    m = line.split(';')\n",
    "    sentences_test.append(m[0])\n",
    "    labels_test.append(m[1])\n",
    "    \n",
    "filename = \"EmotionClassificationDataSet/val.txt\"\n",
    "sentences_val = []\n",
    "labels_val = []\n",
    "\n",
    "lines = open(filename, encoding='utf-8').read().strip().split('\\n')\n",
    "for line in lines:\n",
    "    m = line.split(';')\n",
    "    sentences_val.append(m[0])\n",
    "    labels_val.append(m[1])\n",
    "    \n",
    "    \n",
    "label_list_train = set(labels_train)\n",
    "label_train = list(label)  \n",
    "\n",
    "label_list_test = set(labels_test)\n",
    "label_test = list(label)\n",
    "\n",
    "label_list_val = set(labels_val)\n",
    "label_val = list(label)\n",
    "\n",
    "df_train = pd.DataFrame({\"sentence\":sentences_train,\n",
    "                         \"label\":labels_train})\n",
    "df_test = pd.DataFrame({\"sentence\":sentences_test,\n",
    "                         \"label\":labels_test})\n",
    "df_val = pd.DataFrame({\"sentence\":sentences_val,\n",
    "                         \"label\":labels_val})\n",
    "\n",
    "\n",
    "print(\"Total number of sentences for train: \",len(sentences_train))\n",
    "print(\"Total number of sentences for test: \",len(sentences_test))\n",
    "print(\"Total number of sentences for validation: \",len(sentences_val),'\\n')\n",
    "\n",
    "print(\"Total number of labels for train: \",len(label_train), label_train)\n",
    "print(\"Total number of labels for test: \",len(label_test), label_test)\n",
    "print(\"Total number of labels for validation: \",len(label_val), label_val)\n"
   ]
  },
  {
   "cell_type": "markdown",
   "id": "b9f046a9",
   "metadata": {},
   "source": [
    "# Exploratory Data Analysis (EDA)"
   ]
  },
  {
   "cell_type": "code",
   "execution_count": 173,
   "id": "a116841c",
   "metadata": {},
   "outputs": [
    {
     "name": "stdout",
     "output_type": "stream",
     "text": [
      "Training set: joy         5362\n",
      "sadness     4666\n",
      "anger       2159\n",
      "fear        1937\n",
      "love        1304\n",
      "surprise     572\n",
      "Name: label, dtype: int64 \n",
      "\n",
      "Test set: joy         695\n",
      "sadness     581\n",
      "anger       275\n",
      "fear        224\n",
      "love        159\n",
      "surprise     66\n",
      "Name: label, dtype: int64 \n",
      "\n",
      "Validation set: joy         704\n",
      "sadness     550\n",
      "anger       275\n",
      "fear        212\n",
      "love        178\n",
      "surprise     81\n",
      "Name: label, dtype: int64 \n",
      "\n"
     ]
    },
    {
     "data": {
      "image/png": "[encoded data removed]",
      "text/plain": [
       "<Figure size 640x480 with 1 Axes>"
      ]
     },
     "metadata": {},
     "output_type": "display_data"
    }
   ],
   "source": [
    "# a = pd.DataFrame(list(labels_train)).value_counts()\n",
    "print(\"Training set:\",df_train['label'].value_counts(),'\\n')\n",
    "\n",
    "\n",
    "# b = pd.DataFrame(list(labels_test)).value_counts()\n",
    "print(\"Test set:\",df_test['label'].value_counts(), '\\n')\n",
    "\n",
    "\n",
    "# c = pd.DataFrame(list(labels_val)).value_counts()\n",
    "print(\"Validation set:\",df_val['label'].value_counts(),'\\n')\n",
    "\n",
    "x_label = np.arange(len(label_train))\n",
    "\n",
    "# plt.bar(x_label-0.2, a.values,0.2, label='Train')\n",
    "# plt.bar(x_label, b.values,0.2, label='Test')\n",
    "# plt.bar(x_label+0.2, c.values,0.2, label='Validation')\n",
    "\n",
    "plt.bar(x_label-0.2, df_train['label'].value_counts(), 0.2, label='Train')\n",
    "plt.bar(x_label, df_test['label'].value_counts(), 0.2, label='Test')\n",
    "plt.bar(x_label+0.2, df_val['label'].value_counts(), 0.2, label='Validation')\n",
    "\n",
    "plt.xticks(x_label, df_train['label'].value_counts().index)#label_train[::-1])\n",
    "plt.xlabel(\"Feelings\")\n",
    "plt.ylabel(\"Number of sentences\")\n",
    "plt.title(\"Number of sentences in each feeling\")\n",
    "plt.legend()\n",
    "plt.show()\n"
   ]
  },
  {
   "cell_type": "markdown",
   "id": "d9bd8840",
   "metadata": {},
   "source": [
    "# Missing data\n",
    "No missing data"
   ]
  },
  {
   "cell_type": "code",
   "execution_count": 149,
   "id": "3fbf1e0e",
   "metadata": {},
   "outputs": [
    {
     "name": "stdout",
     "output_type": "stream",
     "text": [
      " Number of sentences in train set = 16000, Number of labeles in train set = 16000\n",
      " Number of sentences in test set = 2000, Number of labeles in test set = 2000\n",
      " Number of sentences in validation set = 2000, Number of labeles in validation set = 2000\n"
     ]
    }
   ],
   "source": [
    "print(f\" Number of sentences in train set = {len(sentences_train)}, Number of labeles in train set = {len(labels_train)}\")\n",
    "print(f\" Number of sentences in test set = {len(sentences_test)}, Number of labeles in test set = {len(labels_test)}\")\n",
    "print(f\" Number of sentences in validation set = {len(sentences_val)}, Number of labeles in validation set = {len(labels_val)}\")\n"
   ]
  },
  {
   "cell_type": "markdown",
   "id": "4f40a650",
   "metadata": {},
   "source": [
    "# Number of words in a sentences\n",
    "Love sentences are more wordy than other"
   ]
  },
  {
   "cell_type": "code",
   "execution_count": 153,
   "id": "6dbe8992",
   "metadata": {},
   "outputs": [
    {
     "name": "stdout",
     "output_type": "stream",
     "text": [
      "Average number of words in Sadness sentences:  18.361980282897555\n",
      "Average number of words in Fear sentences:  18.84460505937016\n",
      "Average number of words in Surprise sentences:  19.97027972027972\n",
      "Average number of words in Joy sentences:  19.498135024244686\n",
      "Average number of words in Anger sentences:  19.229735988883743\n",
      "Average number of words in Love sentences:  20.70015337423313\n"
     ]
    }
   ],
   "source": [
    "df_train['word_count'] = df_train['sentence'].apply(lambda x: len(str(x).split()))\n",
    "\n",
    "print(\"Average number of words in Sadness sentences: \", df_train[df_train['label']=='sadness']['word_count'].mean()) #Disaster tweets\n",
    "print(\"Average number of words in Fear sentences: \",df_train[df_train['label']=='fear']['word_count'].mean()) #Disaster tweets\n",
    "print(\"Average number of words in Surprise sentences: \",df_train[df_train['label']=='surprise']['word_count'].mean()) #Disaster tweets\n",
    "print(\"Average number of words in Joy sentences: \",df_train[df_train['label']=='joy']['word_count'].mean()) #Disaster tweets\n",
    "print(\"Average number of words in Anger sentences: \",df_train[df_train['label']=='anger']['word_count'].mean()) #Disaster tweets\n",
    "print(\"Average number of words in Love sentences: \",df_train[df_train['label']=='love']['word_count'].mean()) #Disaster tweets\n"
   ]
  },
  {
   "cell_type": "markdown",
   "id": "55bb96b6",
   "metadata": {},
   "source": [
    "# Number of characters in a sentences\n",
    "Love sentences are longer than the other"
   ]
  },
  {
   "cell_type": "code",
   "execution_count": 155,
   "id": "f3d600fe",
   "metadata": {},
   "outputs": [
    {
     "name": "stdout",
     "output_type": "stream",
     "text": [
      "Average number of characters in Sadness sentences:  92.55057865409344\n",
      "Average number of characters in Fear sentences:  96.12390294269488\n",
      "Average number of characters in Surprise sentences:  101.67657342657343\n",
      "Average number of characters in Joy sentences:  98.5544572920552\n",
      "Average number of characters in Anger sentences:  96.91153311718388\n",
      "Average number of characters in Love sentences:  104.03374233128834\n"
     ]
    }
   ],
   "source": [
    "df_train['char_count'] = df_train['sentence'].apply(lambda x: len(str(x)))\n",
    "\n",
    "print(\"Average number of characters in Sadness sentences: \", df_train[df_train['label']=='sadness']['char_count'].mean()) #Disaster tweets\n",
    "print(\"Average number of characters in Fear sentences: \",df_train[df_train['label']=='fear']['char_count'].mean()) #Disaster tweets\n",
    "print(\"Average number of characters in Surprise sentences: \",df_train[df_train['label']=='surprise']['char_count'].mean()) #Disaster tweets\n",
    "print(\"Average number of characters in Joy sentences: \",df_train[df_train['label']=='joy']['char_count'].mean()) #Disaster tweets\n",
    "print(\"Average number of characters in Anger sentences: \",df_train[df_train['label']=='anger']['char_count'].mean()) #Disaster tweets\n",
    "print(\"Average number of characters in Love sentences: \",df_train[df_train['label']=='love']['char_count'].mean()) #Disaster tweets\n"
   ]
  },
  {
   "cell_type": "code",
   "execution_count": null,
   "id": "6e5f7c99",
   "metadata": {},
   "outputs": [],
   "source": []
  }
 ],
 "metadata": {
  "kernelspec": {
   "display_name": "Python 3 (ipykernel)",
   "language": "python",
   "name": "python3"
  },
  "language_info": {
   "codemirror_mode": {
    "name": "ipython",
    "version": 3
   },
   "file_extension": ".py",
   "mimetype": "text/x-python",
   "name": "python",
   "nbconvert_exporter": "python",
   "pygments_lexer": "ipython3",
   "version": "3.9.13"
  }
 },
 "nbformat": 4,
 "nbformat_minor": 5
}
